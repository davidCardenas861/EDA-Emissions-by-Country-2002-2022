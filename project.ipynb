{
 "cells": [
  {
   "cell_type": "markdown",
   "metadata": {},
   "source": [
    "# Analisis de las emisiones de globales de CO2 de 2002-2022"
   ]
  },
  {
   "cell_type": "markdown",
   "metadata": {},
   "source": [
    "Primero importamos librerias para el proyecto"
   ]
  },
  {
   "cell_type": "code",
   "execution_count": 42,
   "metadata": {},
   "outputs": [],
   "source": [
    "import pandas as pd\n",
    "import numpy as np\n",
    "import matplotlib.pyplot as plt\n",
    "import seaborn as sns\n",
    "import plotly.express as px"
   ]
  },
  {
   "cell_type": "markdown",
   "metadata": {},
   "source": [
    "## Analisis preliminar de los datos"
   ]
  },
  {
   "cell_type": "code",
   "execution_count": 43,
   "metadata": {},
   "outputs": [],
   "source": [
    "df = pd.read_csv('./data/GCB2022v27_MtCO2_flat.csv')"
   ]
  },
  {
   "cell_type": "markdown",
   "metadata": {},
   "source": [
    "Validamos la cantidad de variables que tiene nuestro conjunto de datos"
   ]
  },
  {
   "cell_type": "code",
   "execution_count": 44,
   "metadata": {},
   "outputs": [
    {
     "data": {
      "text/plain": [
       "(63104, 11)"
      ]
     },
     "execution_count": 44,
     "metadata": {},
     "output_type": "execute_result"
    }
   ],
   "source": [
    "df.shape"
   ]
  },
  {
   "cell_type": "code",
   "execution_count": 45,
   "metadata": {},
   "outputs": [],
   "source": [
    "df_copy = df.copy()"
   ]
  },
  {
   "cell_type": "code",
   "execution_count": 46,
   "metadata": {},
   "outputs": [],
   "source": [
    "#Ordenar tabla por emisiones totales\n",
    "df_sorted = df.sort_values('Total',ascending=False)"
   ]
  },
  {
   "cell_type": "code",
   "execution_count": 47,
   "metadata": {},
   "outputs": [
    {
     "data": {
      "text/html": [
       "<div>\n",
       "<style scoped>\n",
       "    .dataframe tbody tr th:only-of-type {\n",
       "        vertical-align: middle;\n",
       "    }\n",
       "\n",
       "    .dataframe tbody tr th {\n",
       "        vertical-align: top;\n",
       "    }\n",
       "\n",
       "    .dataframe thead th {\n",
       "        text-align: right;\n",
       "    }\n",
       "</style>\n",
       "<table border=\"1\" class=\"dataframe\">\n",
       "  <thead>\n",
       "    <tr style=\"text-align: right;\">\n",
       "      <th></th>\n",
       "      <th>Country</th>\n",
       "      <th>ISO 3166-1 alpha-3</th>\n",
       "      <th>Year</th>\n",
       "      <th>Total</th>\n",
       "      <th>Coal</th>\n",
       "      <th>Oil</th>\n",
       "      <th>Gas</th>\n",
       "      <th>Cement</th>\n",
       "      <th>Flaring</th>\n",
       "      <th>Other</th>\n",
       "      <th>Per Capita</th>\n",
       "    </tr>\n",
       "  </thead>\n",
       "  <tbody>\n",
       "    <tr>\n",
       "      <th>63103</th>\n",
       "      <td>Global</td>\n",
       "      <td>WLD</td>\n",
       "      <td>2021</td>\n",
       "      <td>37123.850352</td>\n",
       "      <td>14979.598083</td>\n",
       "      <td>11837.159116</td>\n",
       "      <td>7921.829472</td>\n",
       "      <td>1672.592372</td>\n",
       "      <td>416.525563</td>\n",
       "      <td>296.145746</td>\n",
       "      <td>4.693699</td>\n",
       "    </tr>\n",
       "    <tr>\n",
       "      <th>63101</th>\n",
       "      <td>Global</td>\n",
       "      <td>WLD</td>\n",
       "      <td>2019</td>\n",
       "      <td>37082.558969</td>\n",
       "      <td>14725.978025</td>\n",
       "      <td>12345.653374</td>\n",
       "      <td>7647.528220</td>\n",
       "      <td>1617.506786</td>\n",
       "      <td>439.253991</td>\n",
       "      <td>306.638573</td>\n",
       "      <td>4.775633</td>\n",
       "    </tr>\n",
       "    <tr>\n",
       "      <th>63100</th>\n",
       "      <td>Global</td>\n",
       "      <td>WLD</td>\n",
       "      <td>2018</td>\n",
       "      <td>36826.506600</td>\n",
       "      <td>14746.830688</td>\n",
       "      <td>12266.016285</td>\n",
       "      <td>7529.846784</td>\n",
       "      <td>1569.218392</td>\n",
       "      <td>412.115746</td>\n",
       "      <td>302.478706</td>\n",
       "      <td>4.792753</td>\n",
       "    </tr>\n",
       "    <tr>\n",
       "      <th>63099</th>\n",
       "      <td>Global</td>\n",
       "      <td>WLD</td>\n",
       "      <td>2017</td>\n",
       "      <td>36096.739276</td>\n",
       "      <td>14506.973805</td>\n",
       "      <td>12242.627935</td>\n",
       "      <td>7144.928128</td>\n",
       "      <td>1507.923185</td>\n",
       "      <td>391.992176</td>\n",
       "      <td>302.294047</td>\n",
       "      <td>4.749682</td>\n",
       "    </tr>\n",
       "    <tr>\n",
       "      <th>63096</th>\n",
       "      <td>Global</td>\n",
       "      <td>WLD</td>\n",
       "      <td>2014</td>\n",
       "      <td>35577.534774</td>\n",
       "      <td>15051.512770</td>\n",
       "      <td>11678.782147</td>\n",
       "      <td>6654.555376</td>\n",
       "      <td>1499.912273</td>\n",
       "      <td>387.901908</td>\n",
       "      <td>304.870299</td>\n",
       "      <td>4.847727</td>\n",
       "    </tr>\n",
       "  </tbody>\n",
       "</table>\n",
       "</div>"
      ],
      "text/plain": [
       "      Country ISO 3166-1 alpha-3  Year         Total          Coal  \\\n",
       "63103  Global                WLD  2021  37123.850352  14979.598083   \n",
       "63101  Global                WLD  2019  37082.558969  14725.978025   \n",
       "63100  Global                WLD  2018  36826.506600  14746.830688   \n",
       "63099  Global                WLD  2017  36096.739276  14506.973805   \n",
       "63096  Global                WLD  2014  35577.534774  15051.512770   \n",
       "\n",
       "                Oil          Gas       Cement     Flaring       Other  \\\n",
       "63103  11837.159116  7921.829472  1672.592372  416.525563  296.145746   \n",
       "63101  12345.653374  7647.528220  1617.506786  439.253991  306.638573   \n",
       "63100  12266.016285  7529.846784  1569.218392  412.115746  302.478706   \n",
       "63099  12242.627935  7144.928128  1507.923185  391.992176  302.294047   \n",
       "63096  11678.782147  6654.555376  1499.912273  387.901908  304.870299   \n",
       "\n",
       "       Per Capita  \n",
       "63103    4.693699  \n",
       "63101    4.775633  \n",
       "63100    4.792753  \n",
       "63099    4.749682  \n",
       "63096    4.847727  "
      ]
     },
     "execution_count": 47,
     "metadata": {},
     "output_type": "execute_result"
    }
   ],
   "source": [
    "filter = df['Country'] == 'Global'\n",
    "df_global = df[filter]\n",
    "df_sorted.head()"
   ]
  },
  {
   "cell_type": "markdown",
   "metadata": {},
   "source": [
    "Eliminamos globales"
   ]
  },
  {
   "cell_type": "code",
   "execution_count": 48,
   "metadata": {},
   "outputs": [],
   "source": [
    "filter = df['Country']=='Global'\n",
    "df.drop(df[filter].index,inplace=True)"
   ]
  },
  {
   "cell_type": "code",
   "execution_count": 49,
   "metadata": {},
   "outputs": [
    {
     "data": {
      "text/html": [
       "<div>\n",
       "<style scoped>\n",
       "    .dataframe tbody tr th:only-of-type {\n",
       "        vertical-align: middle;\n",
       "    }\n",
       "\n",
       "    .dataframe tbody tr th {\n",
       "        vertical-align: top;\n",
       "    }\n",
       "\n",
       "    .dataframe thead th {\n",
       "        text-align: right;\n",
       "    }\n",
       "</style>\n",
       "<table border=\"1\" class=\"dataframe\">\n",
       "  <thead>\n",
       "    <tr style=\"text-align: right;\">\n",
       "      <th></th>\n",
       "      <th>Country</th>\n",
       "      <th>ISO 3166-1 alpha-3</th>\n",
       "      <th>Year</th>\n",
       "      <th>Total</th>\n",
       "      <th>Coal</th>\n",
       "      <th>Oil</th>\n",
       "      <th>Gas</th>\n",
       "      <th>Cement</th>\n",
       "      <th>Flaring</th>\n",
       "      <th>Other</th>\n",
       "      <th>Per Capita</th>\n",
       "    </tr>\n",
       "  </thead>\n",
       "  <tbody>\n",
       "    <tr>\n",
       "      <th>10879</th>\n",
       "      <td>China</td>\n",
       "      <td>CHN</td>\n",
       "      <td>2021</td>\n",
       "      <td>11472.369171</td>\n",
       "      <td>7955.985419</td>\n",
       "      <td>1713.339980</td>\n",
       "      <td>773.866062</td>\n",
       "      <td>852.961348</td>\n",
       "      <td>4.677478</td>\n",
       "      <td>171.538883</td>\n",
       "      <td>8.045741</td>\n",
       "    </tr>\n",
       "    <tr>\n",
       "      <th>10878</th>\n",
       "      <td>China</td>\n",
       "      <td>CHN</td>\n",
       "      <td>2020</td>\n",
       "      <td>10956.213369</td>\n",
       "      <td>7605.716883</td>\n",
       "      <td>1627.725238</td>\n",
       "      <td>687.880944</td>\n",
       "      <td>858.232613</td>\n",
       "      <td>5.118808</td>\n",
       "      <td>171.538883</td>\n",
       "      <td>7.688950</td>\n",
       "    </tr>\n",
       "    <tr>\n",
       "      <th>10877</th>\n",
       "      <td>China</td>\n",
       "      <td>CHN</td>\n",
       "      <td>2019</td>\n",
       "      <td>10740.996069</td>\n",
       "      <td>7543.157408</td>\n",
       "      <td>1559.728160</td>\n",
       "      <td>630.171360</td>\n",
       "      <td>826.876048</td>\n",
       "      <td>3.806248</td>\n",
       "      <td>177.256846</td>\n",
       "      <td>7.554165</td>\n",
       "    </tr>\n",
       "    <tr>\n",
       "      <th>10876</th>\n",
       "      <td>China</td>\n",
       "      <td>CHN</td>\n",
       "      <td>2018</td>\n",
       "      <td>10353.876989</td>\n",
       "      <td>7316.399776</td>\n",
       "      <td>1500.473952</td>\n",
       "      <td>575.368912</td>\n",
       "      <td>786.744610</td>\n",
       "      <td>3.350856</td>\n",
       "      <td>171.538883</td>\n",
       "      <td>7.306542</td>\n",
       "    </tr>\n",
       "    <tr>\n",
       "      <th>10875</th>\n",
       "      <td>China</td>\n",
       "      <td>CHN</td>\n",
       "      <td>2017</td>\n",
       "      <td>10011.107108</td>\n",
       "      <td>7163.317856</td>\n",
       "      <td>1430.586816</td>\n",
       "      <td>486.359360</td>\n",
       "      <td>758.185168</td>\n",
       "      <td>2.924697</td>\n",
       "      <td>169.733211</td>\n",
       "      <td>7.098687</td>\n",
       "    </tr>\n",
       "    <tr>\n",
       "      <th>...</th>\n",
       "      <td>...</td>\n",
       "      <td>...</td>\n",
       "      <td>...</td>\n",
       "      <td>...</td>\n",
       "      <td>...</td>\n",
       "      <td>...</td>\n",
       "      <td>...</td>\n",
       "      <td>...</td>\n",
       "      <td>...</td>\n",
       "      <td>...</td>\n",
       "      <td>...</td>\n",
       "    </tr>\n",
       "    <tr>\n",
       "      <th>62755</th>\n",
       "      <td>International Transport</td>\n",
       "      <td>XIT</td>\n",
       "      <td>1945</td>\n",
       "      <td>NaN</td>\n",
       "      <td>NaN</td>\n",
       "      <td>NaN</td>\n",
       "      <td>NaN</td>\n",
       "      <td>NaN</td>\n",
       "      <td>NaN</td>\n",
       "      <td>NaN</td>\n",
       "      <td>NaN</td>\n",
       "    </tr>\n",
       "    <tr>\n",
       "      <th>62756</th>\n",
       "      <td>International Transport</td>\n",
       "      <td>XIT</td>\n",
       "      <td>1946</td>\n",
       "      <td>NaN</td>\n",
       "      <td>NaN</td>\n",
       "      <td>NaN</td>\n",
       "      <td>NaN</td>\n",
       "      <td>NaN</td>\n",
       "      <td>NaN</td>\n",
       "      <td>NaN</td>\n",
       "      <td>NaN</td>\n",
       "    </tr>\n",
       "    <tr>\n",
       "      <th>62757</th>\n",
       "      <td>International Transport</td>\n",
       "      <td>XIT</td>\n",
       "      <td>1947</td>\n",
       "      <td>NaN</td>\n",
       "      <td>NaN</td>\n",
       "      <td>NaN</td>\n",
       "      <td>NaN</td>\n",
       "      <td>NaN</td>\n",
       "      <td>NaN</td>\n",
       "      <td>NaN</td>\n",
       "      <td>NaN</td>\n",
       "    </tr>\n",
       "    <tr>\n",
       "      <th>62758</th>\n",
       "      <td>International Transport</td>\n",
       "      <td>XIT</td>\n",
       "      <td>1948</td>\n",
       "      <td>NaN</td>\n",
       "      <td>NaN</td>\n",
       "      <td>NaN</td>\n",
       "      <td>NaN</td>\n",
       "      <td>NaN</td>\n",
       "      <td>NaN</td>\n",
       "      <td>NaN</td>\n",
       "      <td>NaN</td>\n",
       "    </tr>\n",
       "    <tr>\n",
       "      <th>62759</th>\n",
       "      <td>International Transport</td>\n",
       "      <td>XIT</td>\n",
       "      <td>1949</td>\n",
       "      <td>NaN</td>\n",
       "      <td>NaN</td>\n",
       "      <td>NaN</td>\n",
       "      <td>NaN</td>\n",
       "      <td>NaN</td>\n",
       "      <td>NaN</td>\n",
       "      <td>NaN</td>\n",
       "      <td>NaN</td>\n",
       "    </tr>\n",
       "  </tbody>\n",
       "</table>\n",
       "<p>62832 rows × 11 columns</p>\n",
       "</div>"
      ],
      "text/plain": [
       "                       Country ISO 3166-1 alpha-3  Year         Total  \\\n",
       "10879                    China                CHN  2021  11472.369171   \n",
       "10878                    China                CHN  2020  10956.213369   \n",
       "10877                    China                CHN  2019  10740.996069   \n",
       "10876                    China                CHN  2018  10353.876989   \n",
       "10875                    China                CHN  2017  10011.107108   \n",
       "...                        ...                ...   ...           ...   \n",
       "62755  International Transport                XIT  1945           NaN   \n",
       "62756  International Transport                XIT  1946           NaN   \n",
       "62757  International Transport                XIT  1947           NaN   \n",
       "62758  International Transport                XIT  1948           NaN   \n",
       "62759  International Transport                XIT  1949           NaN   \n",
       "\n",
       "              Coal          Oil         Gas      Cement   Flaring       Other  \\\n",
       "10879  7955.985419  1713.339980  773.866062  852.961348  4.677478  171.538883   \n",
       "10878  7605.716883  1627.725238  687.880944  858.232613  5.118808  171.538883   \n",
       "10877  7543.157408  1559.728160  630.171360  826.876048  3.806248  177.256846   \n",
       "10876  7316.399776  1500.473952  575.368912  786.744610  3.350856  171.538883   \n",
       "10875  7163.317856  1430.586816  486.359360  758.185168  2.924697  169.733211   \n",
       "...            ...          ...         ...         ...       ...         ...   \n",
       "62755          NaN          NaN         NaN         NaN       NaN         NaN   \n",
       "62756          NaN          NaN         NaN         NaN       NaN         NaN   \n",
       "62757          NaN          NaN         NaN         NaN       NaN         NaN   \n",
       "62758          NaN          NaN         NaN         NaN       NaN         NaN   \n",
       "62759          NaN          NaN         NaN         NaN       NaN         NaN   \n",
       "\n",
       "       Per Capita  \n",
       "10879    8.045741  \n",
       "10878    7.688950  \n",
       "10877    7.554165  \n",
       "10876    7.306542  \n",
       "10875    7.098687  \n",
       "...           ...  \n",
       "62755         NaN  \n",
       "62756         NaN  \n",
       "62757         NaN  \n",
       "62758         NaN  \n",
       "62759         NaN  \n",
       "\n",
       "[62832 rows x 11 columns]"
      ]
     },
     "execution_count": 49,
     "metadata": {},
     "output_type": "execute_result"
    }
   ],
   "source": [
    "df_sorted = df.sort_values('Total',ascending=False)\n",
    "df_sorted"
   ]
  },
  {
   "cell_type": "code",
   "execution_count": 50,
   "metadata": {},
   "outputs": [
    {
     "data": {
      "text/html": [
       "<div>\n",
       "<style scoped>\n",
       "    .dataframe tbody tr th:only-of-type {\n",
       "        vertical-align: middle;\n",
       "    }\n",
       "\n",
       "    .dataframe tbody tr th {\n",
       "        vertical-align: top;\n",
       "    }\n",
       "\n",
       "    .dataframe thead th {\n",
       "        text-align: right;\n",
       "    }\n",
       "</style>\n",
       "<table border=\"1\" class=\"dataframe\">\n",
       "  <thead>\n",
       "    <tr style=\"text-align: right;\">\n",
       "      <th></th>\n",
       "      <th>Country</th>\n",
       "      <th>ISO 3166-1 alpha-3</th>\n",
       "      <th>Year</th>\n",
       "      <th>Total</th>\n",
       "      <th>Coal</th>\n",
       "      <th>Oil</th>\n",
       "      <th>Gas</th>\n",
       "      <th>Cement</th>\n",
       "      <th>Flaring</th>\n",
       "      <th>Other</th>\n",
       "      <th>Per Capita</th>\n",
       "    </tr>\n",
       "  </thead>\n",
       "  <tbody>\n",
       "    <tr>\n",
       "      <th>0</th>\n",
       "      <td>Afghanistan</td>\n",
       "      <td>AFG</td>\n",
       "      <td>1750</td>\n",
       "      <td>0.0</td>\n",
       "      <td>NaN</td>\n",
       "      <td>NaN</td>\n",
       "      <td>NaN</td>\n",
       "      <td>NaN</td>\n",
       "      <td>NaN</td>\n",
       "      <td>NaN</td>\n",
       "      <td>NaN</td>\n",
       "    </tr>\n",
       "    <tr>\n",
       "      <th>1</th>\n",
       "      <td>Afghanistan</td>\n",
       "      <td>AFG</td>\n",
       "      <td>1751</td>\n",
       "      <td>0.0</td>\n",
       "      <td>NaN</td>\n",
       "      <td>NaN</td>\n",
       "      <td>NaN</td>\n",
       "      <td>NaN</td>\n",
       "      <td>NaN</td>\n",
       "      <td>NaN</td>\n",
       "      <td>NaN</td>\n",
       "    </tr>\n",
       "    <tr>\n",
       "      <th>2</th>\n",
       "      <td>Afghanistan</td>\n",
       "      <td>AFG</td>\n",
       "      <td>1752</td>\n",
       "      <td>0.0</td>\n",
       "      <td>NaN</td>\n",
       "      <td>NaN</td>\n",
       "      <td>NaN</td>\n",
       "      <td>NaN</td>\n",
       "      <td>NaN</td>\n",
       "      <td>NaN</td>\n",
       "      <td>NaN</td>\n",
       "    </tr>\n",
       "    <tr>\n",
       "      <th>3</th>\n",
       "      <td>Afghanistan</td>\n",
       "      <td>AFG</td>\n",
       "      <td>1753</td>\n",
       "      <td>0.0</td>\n",
       "      <td>NaN</td>\n",
       "      <td>NaN</td>\n",
       "      <td>NaN</td>\n",
       "      <td>NaN</td>\n",
       "      <td>NaN</td>\n",
       "      <td>NaN</td>\n",
       "      <td>NaN</td>\n",
       "    </tr>\n",
       "    <tr>\n",
       "      <th>4</th>\n",
       "      <td>Afghanistan</td>\n",
       "      <td>AFG</td>\n",
       "      <td>1754</td>\n",
       "      <td>0.0</td>\n",
       "      <td>NaN</td>\n",
       "      <td>NaN</td>\n",
       "      <td>NaN</td>\n",
       "      <td>NaN</td>\n",
       "      <td>NaN</td>\n",
       "      <td>NaN</td>\n",
       "      <td>NaN</td>\n",
       "    </tr>\n",
       "  </tbody>\n",
       "</table>\n",
       "</div>"
      ],
      "text/plain": [
       "       Country ISO 3166-1 alpha-3  Year  Total  Coal  Oil  Gas  Cement  \\\n",
       "0  Afghanistan                AFG  1750    0.0   NaN  NaN  NaN     NaN   \n",
       "1  Afghanistan                AFG  1751    0.0   NaN  NaN  NaN     NaN   \n",
       "2  Afghanistan                AFG  1752    0.0   NaN  NaN  NaN     NaN   \n",
       "3  Afghanistan                AFG  1753    0.0   NaN  NaN  NaN     NaN   \n",
       "4  Afghanistan                AFG  1754    0.0   NaN  NaN  NaN     NaN   \n",
       "\n",
       "   Flaring  Other  Per Capita  \n",
       "0      NaN    NaN         NaN  \n",
       "1      NaN    NaN         NaN  \n",
       "2      NaN    NaN         NaN  \n",
       "3      NaN    NaN         NaN  \n",
       "4      NaN    NaN         NaN  "
      ]
     },
     "execution_count": 50,
     "metadata": {},
     "output_type": "execute_result"
    }
   ],
   "source": [
    "df.head()"
   ]
  },
  {
   "cell_type": "code",
   "execution_count": 51,
   "metadata": {},
   "outputs": [
    {
     "data": {
      "text/plain": [
       "(62832, 11)"
      ]
     },
     "execution_count": 51,
     "metadata": {},
     "output_type": "execute_result"
    }
   ],
   "source": [
    "df.shape"
   ]
  },
  {
   "cell_type": "markdown",
   "metadata": {},
   "source": [
    "Nuestro conjunto de datos tiene un total de 10 variables y 62832 observaciones, vamos a validar las variables y como se distribuyen"
   ]
  },
  {
   "cell_type": "code",
   "execution_count": 52,
   "metadata": {},
   "outputs": [
    {
     "data": {
      "text/plain": [
       "float64    8\n",
       "object     2\n",
       "int64      1\n",
       "dtype: int64"
      ]
     },
     "execution_count": 52,
     "metadata": {},
     "output_type": "execute_result"
    }
   ],
   "source": [
    "(df.dtypes.value_counts())"
   ]
  },
  {
   "cell_type": "markdown",
   "metadata": {},
   "source": [
    "Tenemos 8 categorias numericas y dos cualitativas y 9 cuantitativas ahora validemos la cantidad de nulos"
   ]
  },
  {
   "cell_type": "code",
   "execution_count": 53,
   "metadata": {},
   "outputs": [
    {
     "data": {
      "text/plain": [
       "Country                   0\n",
       "ISO 3166-1 alpha-3     1632\n",
       "Year                      0\n",
       "Total                   200\n",
       "Coal                  41360\n",
       "Oil                   41282\n",
       "Gas                   41354\n",
       "Cement                42160\n",
       "Flaring               41354\n",
       "Other                 61244\n",
       "Per Capita            44130\n",
       "dtype: int64"
      ]
     },
     "execution_count": 53,
     "metadata": {},
     "output_type": "execute_result"
    }
   ],
   "source": [
    "df.isnull().sum()"
   ]
  },
  {
   "cell_type": "markdown",
   "metadata": {},
   "source": [
    "Vemos que tiene una gran cantidad de nulos , sobre los 40000 por variable, esto es un poco raro, asi que validemos mas a profunidad el dataframe y veamos la cantidad de nulos por variable de forma visual ya que esto puede ser un problema"
   ]
  },
  {
   "cell_type": "code",
   "execution_count": 54,
   "metadata": {},
   "outputs": [
    {
     "data": {
      "text/plain": [
       "<seaborn.axisgrid.FacetGrid at 0x2829047ba00>"
      ]
     },
     "execution_count": 54,
     "metadata": {},
     "output_type": "execute_result"
    },
    {
     "data": {
      "image/png": "[encoded data removed]",
      "text/plain": [
       "<Figure size 780.625x360 with 1 Axes>"
      ]
     },
     "metadata": {},
     "output_type": "display_data"
    }
   ],
   "source": [
    "(\n",
    "    df.\n",
    "    isnull().\n",
    "    melt().\n",
    "    pipe(\n",
    "        lambda df:(\n",
    "            sns.displot(data=df,\n",
    "            y='variable',\n",
    "            hue='value',\n",
    "            multiple='fill',\n",
    "            aspect=2\n",
    "        )\n",
    "    )\n",
    " )\n",
    ")"
   ]
  },
  {
   "cell_type": "code",
   "execution_count": 55,
   "metadata": {},
   "outputs": [
    {
     "data": {
      "text/html": [
       "<div>\n",
       "<style scoped>\n",
       "    .dataframe tbody tr th:only-of-type {\n",
       "        vertical-align: middle;\n",
       "    }\n",
       "\n",
       "    .dataframe tbody tr th {\n",
       "        vertical-align: top;\n",
       "    }\n",
       "\n",
       "    .dataframe thead th {\n",
       "        text-align: right;\n",
       "    }\n",
       "</style>\n",
       "<table border=\"1\" class=\"dataframe\">\n",
       "  <thead>\n",
       "    <tr style=\"text-align: right;\">\n",
       "      <th></th>\n",
       "      <th>Country</th>\n",
       "      <th>ISO 3166-1 alpha-3</th>\n",
       "      <th>Year</th>\n",
       "      <th>Total</th>\n",
       "      <th>Coal</th>\n",
       "      <th>Oil</th>\n",
       "      <th>Gas</th>\n",
       "      <th>Cement</th>\n",
       "      <th>Flaring</th>\n",
       "      <th>Other</th>\n",
       "      <th>Per Capita</th>\n",
       "    </tr>\n",
       "  </thead>\n",
       "  <tbody>\n",
       "    <tr>\n",
       "      <th>0</th>\n",
       "      <td>Afghanistan</td>\n",
       "      <td>AFG</td>\n",
       "      <td>1750</td>\n",
       "      <td>0.0</td>\n",
       "      <td>NaN</td>\n",
       "      <td>NaN</td>\n",
       "      <td>NaN</td>\n",
       "      <td>NaN</td>\n",
       "      <td>NaN</td>\n",
       "      <td>NaN</td>\n",
       "      <td>NaN</td>\n",
       "    </tr>\n",
       "    <tr>\n",
       "      <th>1</th>\n",
       "      <td>Afghanistan</td>\n",
       "      <td>AFG</td>\n",
       "      <td>1751</td>\n",
       "      <td>0.0</td>\n",
       "      <td>NaN</td>\n",
       "      <td>NaN</td>\n",
       "      <td>NaN</td>\n",
       "      <td>NaN</td>\n",
       "      <td>NaN</td>\n",
       "      <td>NaN</td>\n",
       "      <td>NaN</td>\n",
       "    </tr>\n",
       "    <tr>\n",
       "      <th>2</th>\n",
       "      <td>Afghanistan</td>\n",
       "      <td>AFG</td>\n",
       "      <td>1752</td>\n",
       "      <td>0.0</td>\n",
       "      <td>NaN</td>\n",
       "      <td>NaN</td>\n",
       "      <td>NaN</td>\n",
       "      <td>NaN</td>\n",
       "      <td>NaN</td>\n",
       "      <td>NaN</td>\n",
       "      <td>NaN</td>\n",
       "    </tr>\n",
       "    <tr>\n",
       "      <th>3</th>\n",
       "      <td>Afghanistan</td>\n",
       "      <td>AFG</td>\n",
       "      <td>1753</td>\n",
       "      <td>0.0</td>\n",
       "      <td>NaN</td>\n",
       "      <td>NaN</td>\n",
       "      <td>NaN</td>\n",
       "      <td>NaN</td>\n",
       "      <td>NaN</td>\n",
       "      <td>NaN</td>\n",
       "      <td>NaN</td>\n",
       "    </tr>\n",
       "    <tr>\n",
       "      <th>4</th>\n",
       "      <td>Afghanistan</td>\n",
       "      <td>AFG</td>\n",
       "      <td>1754</td>\n",
       "      <td>0.0</td>\n",
       "      <td>NaN</td>\n",
       "      <td>NaN</td>\n",
       "      <td>NaN</td>\n",
       "      <td>NaN</td>\n",
       "      <td>NaN</td>\n",
       "      <td>NaN</td>\n",
       "      <td>NaN</td>\n",
       "    </tr>\n",
       "  </tbody>\n",
       "</table>\n",
       "</div>"
      ],
      "text/plain": [
       "       Country ISO 3166-1 alpha-3  Year  Total  Coal  Oil  Gas  Cement  \\\n",
       "0  Afghanistan                AFG  1750    0.0   NaN  NaN  NaN     NaN   \n",
       "1  Afghanistan                AFG  1751    0.0   NaN  NaN  NaN     NaN   \n",
       "2  Afghanistan                AFG  1752    0.0   NaN  NaN  NaN     NaN   \n",
       "3  Afghanistan                AFG  1753    0.0   NaN  NaN  NaN     NaN   \n",
       "4  Afghanistan                AFG  1754    0.0   NaN  NaN  NaN     NaN   \n",
       "\n",
       "   Flaring  Other  Per Capita  \n",
       "0      NaN    NaN         NaN  \n",
       "1      NaN    NaN         NaN  \n",
       "2      NaN    NaN         NaN  \n",
       "3      NaN    NaN         NaN  \n",
       "4      NaN    NaN         NaN  "
      ]
     },
     "execution_count": 55,
     "metadata": {},
     "output_type": "execute_result"
    }
   ],
   "source": [
    "filtro = df['ISO 3166-1 alpha-3'].isna() == True\n",
    "df = df[~filtro]\n",
    "df.head()"
   ]
  },
  {
   "cell_type": "markdown",
   "metadata": {},
   "source": [
    "Validemos los estadisticos basicos para entender aun mas nuestro dataframe"
   ]
  },
  {
   "cell_type": "code",
   "execution_count": 56,
   "metadata": {},
   "outputs": [
    {
     "data": {
      "text/html": [
       "<div>\n",
       "<style scoped>\n",
       "    .dataframe tbody tr th:only-of-type {\n",
       "        vertical-align: middle;\n",
       "    }\n",
       "\n",
       "    .dataframe tbody tr th {\n",
       "        vertical-align: top;\n",
       "    }\n",
       "\n",
       "    .dataframe thead th {\n",
       "        text-align: right;\n",
       "    }\n",
       "</style>\n",
       "<table border=\"1\" class=\"dataframe\">\n",
       "  <thead>\n",
       "    <tr style=\"text-align: right;\">\n",
       "      <th></th>\n",
       "      <th>Year</th>\n",
       "      <th>Total</th>\n",
       "      <th>Coal</th>\n",
       "      <th>Oil</th>\n",
       "      <th>Gas</th>\n",
       "      <th>Cement</th>\n",
       "      <th>Flaring</th>\n",
       "      <th>Other</th>\n",
       "      <th>Per Capita</th>\n",
       "    </tr>\n",
       "  </thead>\n",
       "  <tbody>\n",
       "    <tr>\n",
       "      <th>count</th>\n",
       "      <td>61200.000000</td>\n",
       "      <td>61000.000000</td>\n",
       "      <td>21388.000000</td>\n",
       "      <td>21466.000000</td>\n",
       "      <td>21394.000000</td>\n",
       "      <td>20588.000000</td>\n",
       "      <td>21394.000000</td>\n",
       "      <td>1588.000000</td>\n",
       "      <td>18270.000000</td>\n",
       "    </tr>\n",
       "    <tr>\n",
       "      <th>mean</th>\n",
       "      <td>1885.500000</td>\n",
       "      <td>28.465806</td>\n",
       "      <td>37.599977</td>\n",
       "      <td>28.183670</td>\n",
       "      <td>11.875190</td>\n",
       "      <td>2.188931</td>\n",
       "      <td>0.861338</td>\n",
       "      <td>6.098367</td>\n",
       "      <td>4.556790</td>\n",
       "    </tr>\n",
       "    <tr>\n",
       "      <th>std</th>\n",
       "      <td>78.519747</td>\n",
       "      <td>258.198273</td>\n",
       "      <td>246.104813</td>\n",
       "      <td>144.226670</td>\n",
       "      <td>75.316530</td>\n",
       "      <td>21.635671</td>\n",
       "      <td>4.446181</td>\n",
       "      <td>18.355981</td>\n",
       "      <td>17.748022</td>\n",
       "    </tr>\n",
       "    <tr>\n",
       "      <th>min</th>\n",
       "      <td>1750.000000</td>\n",
       "      <td>0.000000</td>\n",
       "      <td>0.000000</td>\n",
       "      <td>0.000000</td>\n",
       "      <td>0.000000</td>\n",
       "      <td>0.000000</td>\n",
       "      <td>0.000000</td>\n",
       "      <td>0.000000</td>\n",
       "      <td>0.000000</td>\n",
       "    </tr>\n",
       "    <tr>\n",
       "      <th>25%</th>\n",
       "      <td>1817.750000</td>\n",
       "      <td>0.000000</td>\n",
       "      <td>0.000000</td>\n",
       "      <td>0.087936</td>\n",
       "      <td>0.000000</td>\n",
       "      <td>0.000000</td>\n",
       "      <td>0.000000</td>\n",
       "      <td>0.503605</td>\n",
       "      <td>0.232535</td>\n",
       "    </tr>\n",
       "    <tr>\n",
       "      <th>50%</th>\n",
       "      <td>1885.500000</td>\n",
       "      <td>0.000000</td>\n",
       "      <td>0.253157</td>\n",
       "      <td>1.028784</td>\n",
       "      <td>0.000000</td>\n",
       "      <td>0.021950</td>\n",
       "      <td>0.000000</td>\n",
       "      <td>1.200529</td>\n",
       "      <td>1.400733</td>\n",
       "    </tr>\n",
       "    <tr>\n",
       "      <th>75%</th>\n",
       "      <td>1953.250000</td>\n",
       "      <td>0.591792</td>\n",
       "      <td>6.229716</td>\n",
       "      <td>8.046447</td>\n",
       "      <td>0.499835</td>\n",
       "      <td>0.557698</td>\n",
       "      <td>0.000000</td>\n",
       "      <td>4.181465</td>\n",
       "      <td>5.302582</td>\n",
       "    </tr>\n",
       "    <tr>\n",
       "      <th>max</th>\n",
       "      <td>2021.000000</td>\n",
       "      <td>11472.369171</td>\n",
       "      <td>7955.985419</td>\n",
       "      <td>2644.236598</td>\n",
       "      <td>1673.999100</td>\n",
       "      <td>858.232613</td>\n",
       "      <td>88.383147</td>\n",
       "      <td>177.256846</td>\n",
       "      <td>834.192642</td>\n",
       "    </tr>\n",
       "  </tbody>\n",
       "</table>\n",
       "</div>"
      ],
      "text/plain": [
       "               Year         Total          Coal           Oil           Gas  \\\n",
       "count  61200.000000  61000.000000  21388.000000  21466.000000  21394.000000   \n",
       "mean    1885.500000     28.465806     37.599977     28.183670     11.875190   \n",
       "std       78.519747    258.198273    246.104813    144.226670     75.316530   \n",
       "min     1750.000000      0.000000      0.000000      0.000000      0.000000   \n",
       "25%     1817.750000      0.000000      0.000000      0.087936      0.000000   \n",
       "50%     1885.500000      0.000000      0.253157      1.028784      0.000000   \n",
       "75%     1953.250000      0.591792      6.229716      8.046447      0.499835   \n",
       "max     2021.000000  11472.369171   7955.985419   2644.236598   1673.999100   \n",
       "\n",
       "             Cement       Flaring        Other    Per Capita  \n",
       "count  20588.000000  21394.000000  1588.000000  18270.000000  \n",
       "mean       2.188931      0.861338     6.098367      4.556790  \n",
       "std       21.635671      4.446181    18.355981     17.748022  \n",
       "min        0.000000      0.000000     0.000000      0.000000  \n",
       "25%        0.000000      0.000000     0.503605      0.232535  \n",
       "50%        0.021950      0.000000     1.200529      1.400733  \n",
       "75%        0.557698      0.000000     4.181465      5.302582  \n",
       "max      858.232613     88.383147   177.256846    834.192642  "
      ]
     },
     "execution_count": 56,
     "metadata": {},
     "output_type": "execute_result"
    }
   ],
   "source": [
    "df.describe()"
   ]
  },
  {
   "cell_type": "code",
   "execution_count": 57,
   "metadata": {},
   "outputs": [
    {
     "name": "stdout",
     "output_type": "stream",
     "text": [
      "<class 'pandas.core.frame.DataFrame'>\n",
      "Int64Index: 61200 entries, 0 to 62831\n",
      "Data columns (total 11 columns):\n",
      " #   Column              Non-Null Count  Dtype  \n",
      "---  ------              --------------  -----  \n",
      " 0   Country             61200 non-null  object \n",
      " 1   ISO 3166-1 alpha-3  61200 non-null  object \n",
      " 2   Year                61200 non-null  int64  \n",
      " 3   Total               61000 non-null  float64\n",
      " 4   Coal                21388 non-null  float64\n",
      " 5   Oil                 21466 non-null  float64\n",
      " 6   Gas                 21394 non-null  float64\n",
      " 7   Cement              20588 non-null  float64\n",
      " 8   Flaring             21394 non-null  float64\n",
      " 9   Other               1588 non-null   float64\n",
      " 10  Per Capita          18270 non-null  float64\n",
      "dtypes: float64(8), int64(1), object(2)\n",
      "memory usage: 5.6+ MB\n"
     ]
    }
   ],
   "source": [
    "df.info()"
   ]
  },
  {
   "cell_type": "markdown",
   "metadata": {},
   "source": [
    "Validando si se tiene NaN"
   ]
  },
  {
   "cell_type": "code",
   "execution_count": 58,
   "metadata": {},
   "outputs": [
    {
     "data": {
      "text/plain": [
       "Country               False\n",
       "ISO 3166-1 alpha-3    False\n",
       "Year                  False\n",
       "Total                  True\n",
       "Coal                   True\n",
       "Oil                    True\n",
       "Gas                    True\n",
       "Cement                 True\n",
       "Flaring                True\n",
       "Other                  True\n",
       "Per Capita             True\n",
       "dtype: bool"
      ]
     },
     "execution_count": 58,
     "metadata": {},
     "output_type": "execute_result"
    }
   ],
   "source": [
    "df.isna().any()"
   ]
  },
  {
   "cell_type": "markdown",
   "metadata": {},
   "source": [
    "Llenamos con 0 los NA"
   ]
  },
  {
   "cell_type": "code",
   "execution_count": 59,
   "metadata": {},
   "outputs": [],
   "source": [
    "df.fillna(0,inplace=True)"
   ]
  },
  {
   "cell_type": "markdown",
   "metadata": {},
   "source": [
    "Vaidamos nuevamente"
   ]
  },
  {
   "cell_type": "code",
   "execution_count": 60,
   "metadata": {},
   "outputs": [
    {
     "data": {
      "text/plain": [
       "Country               False\n",
       "ISO 3166-1 alpha-3    False\n",
       "Year                  False\n",
       "Total                 False\n",
       "Coal                  False\n",
       "Oil                   False\n",
       "Gas                   False\n",
       "Cement                False\n",
       "Flaring               False\n",
       "Other                 False\n",
       "Per Capita            False\n",
       "dtype: bool"
      ]
     },
     "execution_count": 60,
     "metadata": {},
     "output_type": "execute_result"
    }
   ],
   "source": [
    "df.isna().any()"
   ]
  },
  {
   "cell_type": "code",
   "execution_count": 61,
   "metadata": {},
   "outputs": [
    {
     "name": "stdout",
     "output_type": "stream",
     "text": [
      "<class 'pandas.core.frame.DataFrame'>\n",
      "Int64Index: 61200 entries, 0 to 62831\n",
      "Data columns (total 11 columns):\n",
      " #   Column              Non-Null Count  Dtype  \n",
      "---  ------              --------------  -----  \n",
      " 0   Country             61200 non-null  object \n",
      " 1   ISO 3166-1 alpha-3  61200 non-null  object \n",
      " 2   Year                61200 non-null  int64  \n",
      " 3   Total               61200 non-null  float64\n",
      " 4   Coal                61200 non-null  float64\n",
      " 5   Oil                 61200 non-null  float64\n",
      " 6   Gas                 61200 non-null  float64\n",
      " 7   Cement              61200 non-null  float64\n",
      " 8   Flaring             61200 non-null  float64\n",
      " 9   Other               61200 non-null  float64\n",
      " 10  Per Capita          61200 non-null  float64\n",
      "dtypes: float64(8), int64(1), object(2)\n",
      "memory usage: 5.6+ MB\n"
     ]
    }
   ],
   "source": [
    "df.info()"
   ]
  },
  {
   "cell_type": "markdown",
   "metadata": {},
   "source": [
    "EDA Variables categoricas"
   ]
  },
  {
   "cell_type": "code",
   "execution_count": 62,
   "metadata": {},
   "outputs": [],
   "source": [
    "def graficos_eda_categoricos(cat):\n",
    "    \n",
    "    #Calculamos el número de filas que necesitamos\n",
    "    from math import ceil\n",
    "    filas = ceil(cat.shape[1] / 2)\n",
    "\n",
    "    #Definimos el gráfico\n",
    "    f, ax = plt.subplots(nrows = filas, ncols = 2, figsize = (11, filas * 6))\n",
    "\n",
    "    #Aplanamos para iterar por el gráfico como si fuera de 1 dimensión en lugar de 2\n",
    "    ax = ax.flat \n",
    "\n",
    "    #Creamos el bucle que va añadiendo gráficos\n",
    "    for cada, variable in enumerate(cat):\n",
    "        cat[variable].value_counts().plot.barh(ax = ax[cada])\n",
    "        ax[cada].set_title(variable, fontsize = 12, fontweight = \"bold\")\n",
    "        ax[cada].tick_params(labelsize = 12)"
   ]
  },
  {
   "cell_type": "code",
   "execution_count": 63,
   "metadata": {},
   "outputs": [
    {
     "data": {
      "image/png": "[encoded data removed]",
      "text/plain": [
       "<Figure size 792x432 with 2 Axes>"
      ]
     },
     "metadata": {},
     "output_type": "display_data"
    }
   ],
   "source": [
    "graficos_eda_categoricos(df.select_dtypes('O'))"
   ]
  },
  {
   "cell_type": "markdown",
   "metadata": {},
   "source": [
    "La parte categorica no nos indica nada, ya que la base de datos es un resumen por fecha, es decir la frecuencia corresponde a la cantidad de veces que sale el pais o el codigo del pais segun la cantidad de fechas resumida."
   ]
  },
  {
   "cell_type": "markdown",
   "metadata": {},
   "source": [
    "EDA Variables numericas"
   ]
  },
  {
   "cell_type": "code",
   "execution_count": 64,
   "metadata": {},
   "outputs": [],
   "source": [
    "def estadisticos_cont(num):\n",
    "    #Calculamos describe\n",
    "    estadisticos = num.describe().T\n",
    "    #Añadimos la mediana\n",
    "    estadisticos['median'] = num.median()\n",
    "    #Reordenamos para que la mediana esté al lado de la media\n",
    "    estadisticos = estadisticos.iloc[:,[0,1,8,2,3,4,5,6,7]]\n",
    "    #Lo devolvemos\n",
    "    return(estadisticos)"
   ]
  },
  {
   "cell_type": "code",
   "execution_count": 65,
   "metadata": {},
   "outputs": [
    {
     "data": {
      "text/html": [
       "<div>\n",
       "<style scoped>\n",
       "    .dataframe tbody tr th:only-of-type {\n",
       "        vertical-align: middle;\n",
       "    }\n",
       "\n",
       "    .dataframe tbody tr th {\n",
       "        vertical-align: top;\n",
       "    }\n",
       "\n",
       "    .dataframe thead th {\n",
       "        text-align: right;\n",
       "    }\n",
       "</style>\n",
       "<table border=\"1\" class=\"dataframe\">\n",
       "  <thead>\n",
       "    <tr style=\"text-align: right;\">\n",
       "      <th></th>\n",
       "      <th>count</th>\n",
       "      <th>mean</th>\n",
       "      <th>median</th>\n",
       "      <th>std</th>\n",
       "      <th>min</th>\n",
       "      <th>25%</th>\n",
       "      <th>50%</th>\n",
       "      <th>75%</th>\n",
       "      <th>max</th>\n",
       "    </tr>\n",
       "  </thead>\n",
       "  <tbody>\n",
       "    <tr>\n",
       "      <th>Year</th>\n",
       "      <td>61200.0</td>\n",
       "      <td>1885.500000</td>\n",
       "      <td>1885.5</td>\n",
       "      <td>78.519747</td>\n",
       "      <td>1750.0</td>\n",
       "      <td>1817.75</td>\n",
       "      <td>1885.5</td>\n",
       "      <td>1953.250000</td>\n",
       "      <td>2021.000000</td>\n",
       "    </tr>\n",
       "    <tr>\n",
       "      <th>Total</th>\n",
       "      <td>61200.0</td>\n",
       "      <td>28.372781</td>\n",
       "      <td>0.0</td>\n",
       "      <td>257.781148</td>\n",
       "      <td>0.0</td>\n",
       "      <td>0.00</td>\n",
       "      <td>0.0</td>\n",
       "      <td>0.579693</td>\n",
       "      <td>11472.369171</td>\n",
       "    </tr>\n",
       "    <tr>\n",
       "      <th>Coal</th>\n",
       "      <td>61200.0</td>\n",
       "      <td>13.140332</td>\n",
       "      <td>0.0</td>\n",
       "      <td>146.587014</td>\n",
       "      <td>0.0</td>\n",
       "      <td>0.00</td>\n",
       "      <td>0.0</td>\n",
       "      <td>0.000000</td>\n",
       "      <td>7955.985419</td>\n",
       "    </tr>\n",
       "    <tr>\n",
       "      <th>Oil</th>\n",
       "      <td>61200.0</td>\n",
       "      <td>9.885468</td>\n",
       "      <td>0.0</td>\n",
       "      <td>86.468317</td>\n",
       "      <td>0.0</td>\n",
       "      <td>0.00</td>\n",
       "      <td>0.0</td>\n",
       "      <td>0.146560</td>\n",
       "      <td>2644.236598</td>\n",
       "    </tr>\n",
       "    <tr>\n",
       "      <th>Gas</th>\n",
       "      <td>61200.0</td>\n",
       "      <td>4.151272</td>\n",
       "      <td>0.0</td>\n",
       "      <td>44.888721</td>\n",
       "      <td>0.0</td>\n",
       "      <td>0.00</td>\n",
       "      <td>0.0</td>\n",
       "      <td>0.000000</td>\n",
       "      <td>1673.999100</td>\n",
       "    </tr>\n",
       "    <tr>\n",
       "      <th>Cement</th>\n",
       "      <td>61200.0</td>\n",
       "      <td>0.736368</td>\n",
       "      <td>0.0</td>\n",
       "      <td>12.591132</td>\n",
       "      <td>0.0</td>\n",
       "      <td>0.00</td>\n",
       "      <td>0.0</td>\n",
       "      <td>0.000000</td>\n",
       "      <td>858.232613</td>\n",
       "    </tr>\n",
       "    <tr>\n",
       "      <th>Flaring</th>\n",
       "      <td>61200.0</td>\n",
       "      <td>0.301102</td>\n",
       "      <td>0.0</td>\n",
       "      <td>2.660651</td>\n",
       "      <td>0.0</td>\n",
       "      <td>0.00</td>\n",
       "      <td>0.0</td>\n",
       "      <td>0.000000</td>\n",
       "      <td>88.383147</td>\n",
       "    </tr>\n",
       "    <tr>\n",
       "      <th>Other</th>\n",
       "      <td>61200.0</td>\n",
       "      <td>0.158239</td>\n",
       "      <td>0.0</td>\n",
       "      <td>3.110866</td>\n",
       "      <td>0.0</td>\n",
       "      <td>0.00</td>\n",
       "      <td>0.0</td>\n",
       "      <td>0.000000</td>\n",
       "      <td>177.256846</td>\n",
       "    </tr>\n",
       "    <tr>\n",
       "      <th>Per Capita</th>\n",
       "      <td>61200.0</td>\n",
       "      <td>1.360336</td>\n",
       "      <td>0.0</td>\n",
       "      <td>9.918627</td>\n",
       "      <td>0.0</td>\n",
       "      <td>0.00</td>\n",
       "      <td>0.0</td>\n",
       "      <td>0.095514</td>\n",
       "      <td>834.192642</td>\n",
       "    </tr>\n",
       "  </tbody>\n",
       "</table>\n",
       "</div>"
      ],
      "text/plain": [
       "              count         mean  median         std     min      25%     50%  \\\n",
       "Year        61200.0  1885.500000  1885.5   78.519747  1750.0  1817.75  1885.5   \n",
       "Total       61200.0    28.372781     0.0  257.781148     0.0     0.00     0.0   \n",
       "Coal        61200.0    13.140332     0.0  146.587014     0.0     0.00     0.0   \n",
       "Oil         61200.0     9.885468     0.0   86.468317     0.0     0.00     0.0   \n",
       "Gas         61200.0     4.151272     0.0   44.888721     0.0     0.00     0.0   \n",
       "Cement      61200.0     0.736368     0.0   12.591132     0.0     0.00     0.0   \n",
       "Flaring     61200.0     0.301102     0.0    2.660651     0.0     0.00     0.0   \n",
       "Other       61200.0     0.158239     0.0    3.110866     0.0     0.00     0.0   \n",
       "Per Capita  61200.0     1.360336     0.0    9.918627     0.0     0.00     0.0   \n",
       "\n",
       "                    75%           max  \n",
       "Year        1953.250000   2021.000000  \n",
       "Total          0.579693  11472.369171  \n",
       "Coal           0.000000   7955.985419  \n",
       "Oil            0.146560   2644.236598  \n",
       "Gas            0.000000   1673.999100  \n",
       "Cement         0.000000    858.232613  \n",
       "Flaring        0.000000     88.383147  \n",
       "Other          0.000000    177.256846  \n",
       "Per Capita     0.095514    834.192642  "
      ]
     },
     "execution_count": 65,
     "metadata": {},
     "output_type": "execute_result"
    }
   ],
   "source": [
    "estadisticos_cont(df.select_dtypes('number'))"
   ]
  },
  {
   "cell_type": "markdown",
   "metadata": {},
   "source": [
    "## I. Preguntas de negocio"
   ]
  },
  {
   "cell_type": "markdown",
   "metadata": {},
   "source": [
    "¿Cual es el pais que mas genera emisiones?"
   ]
  },
  {
   "cell_type": "code",
   "execution_count": 66,
   "metadata": {},
   "outputs": [
    {
     "data": {
      "text/plain": [
       "Index(['Country', 'ISO 3166-1 alpha-3', 'Year', 'Total', 'Coal', 'Oil', 'Gas',\n",
       "       'Cement', 'Flaring', 'Other', 'Per Capita'],\n",
       "      dtype='object')"
      ]
     },
     "execution_count": 66,
     "metadata": {},
     "output_type": "execute_result"
    }
   ],
   "source": [
    "df.columns"
   ]
  },
  {
   "cell_type": "code",
   "execution_count": 67,
   "metadata": {},
   "outputs": [
    {
     "data": {
      "image/png": "[encoded data removed]",
      "text/plain": [
       "<Figure size 864x360 with 1 Axes>"
      ]
     },
     "metadata": {},
     "output_type": "display_data"
    }
   ],
   "source": [
    "#De los valores ordenaros generamos listas para responder las preguntas de negocio\n",
    "\n",
    "\n",
    "countries = list(df.groupby('Country').sum(numeric_only=True).sort_values(by='Total',ascending=False).index)\n",
    "values = list(df.groupby('Country').sum(numeric_only=True).sort_values(by='Total',ascending=False)['Total'])\n",
    "\n",
    "plt.figure(figsize=(12,5))\n",
    "sns.set_style('darkgrid')\n",
    "sns.barplot(x=countries[:10],y=values[:10])\n",
    "plt.show()"
   ]
  },
  {
   "cell_type": "markdown",
   "metadata": {},
   "source": [
    "El pais que genera mas emisiones es USA, seguido por China y Russia"
   ]
  },
  {
   "cell_type": "markdown",
   "metadata": {},
   "source": [
    "¿Como se distribuyen las emisiones, rango, moda, media y mediana?"
   ]
  },
  {
   "cell_type": "code",
   "execution_count": 68,
   "metadata": {},
   "outputs": [
    {
     "data": {
      "text/html": [
       "<div>\n",
       "<style scoped>\n",
       "    .dataframe tbody tr th:only-of-type {\n",
       "        vertical-align: middle;\n",
       "    }\n",
       "\n",
       "    .dataframe tbody tr th {\n",
       "        vertical-align: top;\n",
       "    }\n",
       "\n",
       "    .dataframe thead th {\n",
       "        text-align: right;\n",
       "    }\n",
       "</style>\n",
       "<table border=\"1\" class=\"dataframe\">\n",
       "  <thead>\n",
       "    <tr style=\"text-align: right;\">\n",
       "      <th></th>\n",
       "      <th>Total</th>\n",
       "      <th>Coal</th>\n",
       "      <th>Oil</th>\n",
       "      <th>Gas</th>\n",
       "      <th>Cement</th>\n",
       "      <th>Flaring</th>\n",
       "      <th>Other</th>\n",
       "      <th>Per Capita</th>\n",
       "    </tr>\n",
       "  </thead>\n",
       "  <tbody>\n",
       "    <tr>\n",
       "      <th>count</th>\n",
       "      <td>225.000000</td>\n",
       "      <td>225.000000</td>\n",
       "      <td>225.000000</td>\n",
       "      <td>225.000000</td>\n",
       "      <td>225.000000</td>\n",
       "      <td>225.000000</td>\n",
       "      <td>225.000000</td>\n",
       "      <td>225.000000</td>\n",
       "    </tr>\n",
       "    <tr>\n",
       "      <th>mean</th>\n",
       "      <td>7717.396344</td>\n",
       "      <td>3574.170304</td>\n",
       "      <td>2688.847365</td>\n",
       "      <td>1129.145872</td>\n",
       "      <td>200.292037</td>\n",
       "      <td>81.899845</td>\n",
       "      <td>43.040921</td>\n",
       "      <td>370.011334</td>\n",
       "    </tr>\n",
       "    <tr>\n",
       "      <th>std</th>\n",
       "      <td>35029.260921</td>\n",
       "      <td>18494.073416</td>\n",
       "      <td>11972.175718</td>\n",
       "      <td>5864.065089</td>\n",
       "      <td>1093.856693</td>\n",
       "      <td>276.946951</td>\n",
       "      <td>343.034669</td>\n",
       "      <td>896.203448</td>\n",
       "    </tr>\n",
       "    <tr>\n",
       "      <th>min</th>\n",
       "      <td>0.153888</td>\n",
       "      <td>0.000000</td>\n",
       "      <td>0.153888</td>\n",
       "      <td>0.000000</td>\n",
       "      <td>0.000000</td>\n",
       "      <td>0.000000</td>\n",
       "      <td>0.000000</td>\n",
       "      <td>0.000000</td>\n",
       "    </tr>\n",
       "    <tr>\n",
       "      <th>25%</th>\n",
       "      <td>38.606676</td>\n",
       "      <td>0.000000</td>\n",
       "      <td>31.109542</td>\n",
       "      <td>0.000000</td>\n",
       "      <td>0.000000</td>\n",
       "      <td>0.000000</td>\n",
       "      <td>0.000000</td>\n",
       "      <td>33.583861</td>\n",
       "    </tr>\n",
       "    <tr>\n",
       "      <th>50%</th>\n",
       "      <td>293.838988</td>\n",
       "      <td>10.590412</td>\n",
       "      <td>192.086831</td>\n",
       "      <td>1.819155</td>\n",
       "      <td>16.600183</td>\n",
       "      <td>0.023707</td>\n",
       "      <td>0.000000</td>\n",
       "      <td>137.774659</td>\n",
       "    </tr>\n",
       "    <tr>\n",
       "      <th>75%</th>\n",
       "      <td>2804.101751</td>\n",
       "      <td>541.646679</td>\n",
       "      <td>1412.684432</td>\n",
       "      <td>319.975403</td>\n",
       "      <td>79.928769</td>\n",
       "      <td>17.334650</td>\n",
       "      <td>0.000000</td>\n",
       "      <td>428.137030</td>\n",
       "    </tr>\n",
       "    <tr>\n",
       "      <th>max</th>\n",
       "      <td>421906.855203</td>\n",
       "      <td>187073.411887</td>\n",
       "      <td>161275.027109</td>\n",
       "      <td>78542.543572</td>\n",
       "      <td>15657.812105</td>\n",
       "      <td>2421.252825</td>\n",
       "      <td>4899.551490</td>\n",
       "      <td>11574.339869</td>\n",
       "    </tr>\n",
       "  </tbody>\n",
       "</table>\n",
       "</div>"
      ],
      "text/plain": [
       "               Total           Coal            Oil           Gas  \\\n",
       "count     225.000000     225.000000     225.000000    225.000000   \n",
       "mean     7717.396344    3574.170304    2688.847365   1129.145872   \n",
       "std     35029.260921   18494.073416   11972.175718   5864.065089   \n",
       "min         0.153888       0.000000       0.153888      0.000000   \n",
       "25%        38.606676       0.000000      31.109542      0.000000   \n",
       "50%       293.838988      10.590412     192.086831      1.819155   \n",
       "75%      2804.101751     541.646679    1412.684432    319.975403   \n",
       "max    421906.855203  187073.411887  161275.027109  78542.543572   \n",
       "\n",
       "             Cement      Flaring        Other    Per Capita  \n",
       "count    225.000000   225.000000   225.000000    225.000000  \n",
       "mean     200.292037    81.899845    43.040921    370.011334  \n",
       "std     1093.856693   276.946951   343.034669    896.203448  \n",
       "min        0.000000     0.000000     0.000000      0.000000  \n",
       "25%        0.000000     0.000000     0.000000     33.583861  \n",
       "50%       16.600183     0.023707     0.000000    137.774659  \n",
       "75%       79.928769    17.334650     0.000000    428.137030  \n",
       "max    15657.812105  2421.252825  4899.551490  11574.339869  "
      ]
     },
     "execution_count": 68,
     "metadata": {},
     "output_type": "execute_result"
    }
   ],
   "source": [
    "df_country = df.groupby('Country').sum(numeric_only=True).sort_values('Total',ascending=False)\n",
    "df_country.drop('Year',inplace=True,axis=1)\n",
    "df_country.describe()\n"
   ]
  },
  {
   "cell_type": "code",
   "execution_count": 69,
   "metadata": {},
   "outputs": [
    {
     "data": {
      "text/plain": [
       "<AxesSubplot:xlabel='Total'>"
      ]
     },
     "execution_count": 69,
     "metadata": {},
     "output_type": "execute_result"
    },
    {
     "data": {
      "image/png": "[encoded data removed]",
      "text/plain": [
       "<Figure size 432x288 with 1 Axes>"
      ]
     },
     "metadata": {},
     "output_type": "display_data"
    }
   ],
   "source": [
    "sns.boxplot(\n",
    "    data=df_country[3:],\n",
    "    x='Total'\n",
    ")"
   ]
  },
  {
   "cell_type": "markdown",
   "metadata": {},
   "source": [
    "De un total de 231 paises, tenemos un minimo de emisiones de  0.15 , una mediana de 274 y un maximo de 421.906 indicando que nuestros datos se encuentran muy sesgados eliminaremos los datos altos para evidenciar como se mueven los descriptivos"
   ]
  },
  {
   "cell_type": "markdown",
   "metadata": {},
   "source": [
    "Realizamos un zoom en Colombia"
   ]
  },
  {
   "cell_type": "code",
   "execution_count": 70,
   "metadata": {},
   "outputs": [
    {
     "data": {
      "text/plain": [
       "<AxesSubplot:xlabel='Year', ylabel='Total'>"
      ]
     },
     "execution_count": 70,
     "metadata": {},
     "output_type": "execute_result"
    },
    {
     "data": {
      "image/png": "[encoded data removed]",
      "text/plain": [
       "<Figure size 720x432 with 2 Axes>"
      ]
     },
     "metadata": {},
     "output_type": "display_data"
    }
   ],
   "source": [
    "filter = df['Country']=='Colombia'\n",
    "colombia_data =df[filter]\n",
    "\n",
    "#Filtramos por ultimos 10 años en colombia\n",
    "colombia_data = colombia_data[-10:]\n",
    "\n",
    "plt.figure(figsize=(10,6))\n",
    "plt.subplot(121)\n",
    "sns.lineplot(data=colombia_data,x='Year',y='Total')\n",
    "plt.subplot(122)\n",
    "sns.barplot(data=colombia_data,x='Year',y='Total')\n"
   ]
  },
  {
   "cell_type": "markdown",
   "metadata": {},
   "source": [
    "La caida de emisiones del 2020 puede tratarse por efectos del covid-19"
   ]
  },
  {
   "cell_type": "markdown",
   "metadata": {},
   "source": [
    "Ahora validamos el comportamiento por tipo de emision"
   ]
  },
  {
   "cell_type": "code",
   "execution_count": 71,
   "metadata": {},
   "outputs": [
    {
     "data": {
      "application/vnd.plotly.v1+json": {
       "config": {
        "plotlyServerURL": "https://plot.ly"
       },
       "data": [
        {
         "hovertemplate": "Year=%{x}<br>Emissions=%{y}<extra></extra>",
         "legendgroup": "",
         "line": {
          "color": "#636efa",
          "dash": "solid"
         },
         "marker": {
          "symbol": "circle"
         },
         "mode": "lines",
         "name": "",
         "orientation": "v",
         "showlegend": false,
         "type": "scatter",
         "x": [
          2012,
          2013,
          2014,
          2015,
          2016,
          2017,
          2018,
          2019,
          2020,
          2021
         ],
         "xaxis": "x",
         "y": [
          80.255276,
          88.104668,
          97.858148,
          95.47234,
          98.730954,
          79.687616,
          82.426799,
          96.438172,
          85.525635,
          91.70338
         ],
         "yaxis": "y"
        },
        {
         "name": "Coal",
         "type": "scatter",
         "x": [
          2012,
          2013,
          2014,
          2015,
          2016,
          2017,
          2018,
          2019,
          2020,
          2021
         ],
         "y": [
          11.541063,
          17.803376,
          18.048864,
          19.1444,
          19.422276,
          14.685855,
          13.714352,
          18.425648,
          15.474417,
          12.015417
         ]
        },
        {
         "name": "Oil",
         "type": "scatter",
         "x": [
          2012,
          2013,
          2014,
          2015,
          2016,
          2017,
          2018,
          2019,
          2020,
          2021
         ],
         "y": [
          38.913532,
          41.509456,
          49.423696,
          46.133424,
          50.939049,
          36.267613,
          38.919008,
          47.765993,
          40.10649,
          49.944936
         ]
        },
        {
         "name": "Gas",
         "type": "scatter",
         "x": [
          2012,
          2013,
          2014,
          2015,
          2016,
          2017,
          2018,
          2019,
          2020,
          2021
         ],
         "y": [
          22.898934,
          22.339408,
          23.481598,
          23.100592,
          21.943696,
          22.467648,
          23.446956,
          23.706357,
          24.170331,
          23.256673
         ]
        },
        {
         "name": "Cement",
         "type": "scatter",
         "x": [
          2012,
          2013,
          2014,
          2015,
          2016,
          2017,
          2018,
          2019,
          2020,
          2021
         ],
         "y": [
          5.051,
          4.79,
          5.277,
          5.551158,
          5.316583,
          5.23295,
          5.301467,
          5.536724,
          5.041366,
          5.870597
         ]
        },
        {
         "name": "Flaring",
         "type": "scatter",
         "x": [
          2012,
          2013,
          2014,
          2015,
          2016,
          2017,
          2018,
          2019,
          2020,
          2021
         ],
         "y": [
          1.850747,
          1.662428,
          1.62699,
          1.542766,
          1.10935,
          1.033549,
          1.045017,
          1.00345,
          0.733031,
          0.615756
         ]
        },
        {
         "name": "Other",
         "type": "scatter",
         "x": [
          2012,
          2013,
          2014,
          2015,
          2016,
          2017,
          2018,
          2019,
          2020,
          2021
         ],
         "y": [
          0,
          0,
          0,
          0,
          0,
          0,
          0,
          0,
          0,
          0
         ]
        }
       ],
       "layout": {
        "legend": {
         "tracegroupgap": 0
        },
        "margin": {
         "t": 60
        },
        "template": {
         "data": {
          "bar": [
           {
            "error_x": {
             "color": "#2a3f5f"
            },
            "error_y": {
             "color": "#2a3f5f"
            },
            "marker": {
             "line": {
              "color": "#E5ECF6",
              "width": 0.5
             },
             "pattern": {
              "fillmode": "overlay",
              "size": 10,
              "solidity": 0.2
             }
            },
            "type": "bar"
           }
          ],
          "barpolar": [
           {
            "marker": {
             "line": {
              "color": "#E5ECF6",
              "width": 0.5
             },
             "pattern": {
              "fillmode": "overlay",
              "size": 10,
              "solidity": 0.2
             }
            },
            "type": "barpolar"
           }
          ],
          "carpet": [
           {
            "aaxis": {
             "endlinecolor": "#2a3f5f",
             "gridcolor": "white",
             "linecolor": "white",
             "minorgridcolor": "white",
             "startlinecolor": "#2a3f5f"
            },
            "baxis": {
             "endlinecolor": "#2a3f5f",
             "gridcolor": "white",
             "linecolor": "white",
             "minorgridcolor": "white",
             "startlinecolor": "#2a3f5f"
            },
            "type": "carpet"
           }
          ],
          "choropleth": [
           {
            "colorbar": {
             "outlinewidth": 0,
             "ticks": ""
            },
            "type": "choropleth"
           }
          ],
          "contour": [
           {
            "colorbar": {
             "outlinewidth": 0,
             "ticks": ""
            },
            "colorscale": [
             [
              0,
              "#0d0887"
             ],
             [
              0.1111111111111111,
              "#46039f"
             ],
             [
              0.2222222222222222,
              "#7201a8"
             ],
             [
              0.3333333333333333,
              "#9c179e"
             ],
             [
              0.4444444444444444,
              "#bd3786"
             ],
             [
              0.5555555555555556,
              "#d8576b"
             ],
             [
              0.6666666666666666,
              "#ed7953"
             ],
             [
              0.7777777777777778,
              "#fb9f3a"
             ],
             [
              0.8888888888888888,
              "#fdca26"
             ],
             [
              1,
              "#f0f921"
             ]
            ],
            "type": "contour"
           }
          ],
          "contourcarpet": [
           {
            "colorbar": {
             "outlinewidth": 0,
             "ticks": ""
            },
            "type": "contourcarpet"
           }
          ],
          "heatmap": [
           {
            "colorbar": {
             "outlinewidth": 0,
             "ticks": ""
            },
            "colorscale": [
             [
              0,
              "#0d0887"
             ],
             [
              0.1111111111111111,
              "#46039f"
             ],
             [
              0.2222222222222222,
              "#7201a8"
             ],
             [
              0.3333333333333333,
              "#9c179e"
             ],
             [
              0.4444444444444444,
              "#bd3786"
             ],
             [
              0.5555555555555556,
              "#d8576b"
             ],
             [
              0.6666666666666666,
              "#ed7953"
             ],
             [
              0.7777777777777778,
              "#fb9f3a"
             ],
             [
              0.8888888888888888,
              "#fdca26"
             ],
             [
              1,
              "#f0f921"
             ]
            ],
            "type": "heatmap"
           }
          ],
          "heatmapgl": [
           {
            "colorbar": {
             "outlinewidth": 0,
             "ticks": ""
            },
            "colorscale": [
             [
              0,
              "#0d0887"
             ],
             [
              0.1111111111111111,
              "#46039f"
             ],
             [
              0.2222222222222222,
              "#7201a8"
             ],
             [
              0.3333333333333333,
              "#9c179e"
             ],
             [
              0.4444444444444444,
              "#bd3786"
             ],
             [
              0.5555555555555556,
              "#d8576b"
             ],
             [
              0.6666666666666666,
              "#ed7953"
             ],
             [
              0.7777777777777778,
              "#fb9f3a"
             ],
             [
              0.8888888888888888,
              "#fdca26"
             ],
             [
              1,
              "#f0f921"
             ]
            ],
            "type": "heatmapgl"
           }
          ],
          "histogram": [
           {
            "marker": {
             "pattern": {
              "fillmode": "overlay",
              "size": 10,
              "solidity": 0.2
             }
            },
            "type": "histogram"
           }
          ],
          "histogram2d": [
           {
            "colorbar": {
             "outlinewidth": 0,
             "ticks": ""
            },
            "colorscale": [
             [
              0,
              "#0d0887"
             ],
             [
              0.1111111111111111,
              "#46039f"
             ],
             [
              0.2222222222222222,
              "#7201a8"
             ],
             [
              0.3333333333333333,
              "#9c179e"
             ],
             [
              0.4444444444444444,
              "#bd3786"
             ],
             [
              0.5555555555555556,
              "#d8576b"
             ],
             [
              0.6666666666666666,
              "#ed7953"
             ],
             [
              0.7777777777777778,
              "#fb9f3a"
             ],
             [
              0.8888888888888888,
              "#fdca26"
             ],
             [
              1,
              "#f0f921"
             ]
            ],
            "type": "histogram2d"
           }
          ],
          "histogram2dcontour": [
           {
            "colorbar": {
             "outlinewidth": 0,
             "ticks": ""
            },
            "colorscale": [
             [
              0,
              "#0d0887"
             ],
             [
              0.1111111111111111,
              "#46039f"
             ],
             [
              0.2222222222222222,
              "#7201a8"
             ],
             [
              0.3333333333333333,
              "#9c179e"
             ],
             [
              0.4444444444444444,
              "#bd3786"
             ],
             [
              0.5555555555555556,
              "#d8576b"
             ],
             [
              0.6666666666666666,
              "#ed7953"
             ],
             [
              0.7777777777777778,
              "#fb9f3a"
             ],
             [
              0.8888888888888888,
              "#fdca26"
             ],
             [
              1,
              "#f0f921"
             ]
            ],
            "type": "histogram2dcontour"
           }
          ],
          "mesh3d": [
           {
            "colorbar": {
             "outlinewidth": 0,
             "ticks": ""
            },
            "type": "mesh3d"
           }
          ],
          "parcoords": [
           {
            "line": {
             "colorbar": {
              "outlinewidth": 0,
              "ticks": ""
             }
            },
            "type": "parcoords"
           }
          ],
          "pie": [
           {
            "automargin": true,
            "type": "pie"
           }
          ],
          "scatter": [
           {
            "marker": {
             "colorbar": {
              "outlinewidth": 0,
              "ticks": ""
             }
            },
            "type": "scatter"
           }
          ],
          "scatter3d": [
           {
            "line": {
             "colorbar": {
              "outlinewidth": 0,
              "ticks": ""
             }
            },
            "marker": {
             "colorbar": {
              "outlinewidth": 0,
              "ticks": ""
             }
            },
            "type": "scatter3d"
           }
          ],
          "scattercarpet": [
           {
            "marker": {
             "colorbar": {
              "outlinewidth": 0,
              "ticks": ""
             }
            },
            "type": "scattercarpet"
           }
          ],
          "scattergeo": [
           {
            "marker": {
             "colorbar": {
              "outlinewidth": 0,
              "ticks": ""
             }
            },
            "type": "scattergeo"
           }
          ],
          "scattergl": [
           {
            "marker": {
             "colorbar": {
              "outlinewidth": 0,
              "ticks": ""
             }
            },
            "type": "scattergl"
           }
          ],
          "scattermapbox": [
           {
            "marker": {
             "colorbar": {
              "outlinewidth": 0,
              "ticks": ""
             }
            },
            "type": "scattermapbox"
           }
          ],
          "scatterpolar": [
           {
            "marker": {
             "colorbar": {
              "outlinewidth": 0,
              "ticks": ""
             }
            },
            "type": "scatterpolar"
           }
          ],
          "scatterpolargl": [
           {
            "marker": {
             "colorbar": {
              "outlinewidth": 0,
              "ticks": ""
             }
            },
            "type": "scatterpolargl"
           }
          ],
          "scatterternary": [
           {
            "marker": {
             "colorbar": {
              "outlinewidth": 0,
              "ticks": ""
             }
            },
            "type": "scatterternary"
           }
          ],
          "surface": [
           {
            "colorbar": {
             "outlinewidth": 0,
             "ticks": ""
            },
            "colorscale": [
             [
              0,
              "#0d0887"
             ],
             [
              0.1111111111111111,
              "#46039f"
             ],
             [
              0.2222222222222222,
              "#7201a8"
             ],
             [
              0.3333333333333333,
              "#9c179e"
             ],
             [
              0.4444444444444444,
              "#bd3786"
             ],
             [
              0.5555555555555556,
              "#d8576b"
             ],
             [
              0.6666666666666666,
              "#ed7953"
             ],
             [
              0.7777777777777778,
              "#fb9f3a"
             ],
             [
              0.8888888888888888,
              "#fdca26"
             ],
             [
              1,
              "#f0f921"
             ]
            ],
            "type": "surface"
           }
          ],
          "table": [
           {
            "cells": {
             "fill": {
              "color": "#EBF0F8"
             },
             "line": {
              "color": "white"
             }
            },
            "header": {
             "fill": {
              "color": "#C8D4E3"
             },
             "line": {
              "color": "white"
             }
            },
            "type": "table"
           }
          ]
         },
         "layout": {
          "annotationdefaults": {
           "arrowcolor": "#2a3f5f",
           "arrowhead": 0,
           "arrowwidth": 1
          },
          "autotypenumbers": "strict",
          "coloraxis": {
           "colorbar": {
            "outlinewidth": 0,
            "ticks": ""
           }
          },
          "colorscale": {
           "diverging": [
            [
             0,
             "#8e0152"
            ],
            [
             0.1,
             "#c51b7d"
            ],
            [
             0.2,
             "#de77ae"
            ],
            [
             0.3,
             "#f1b6da"
            ],
            [
             0.4,
             "#fde0ef"
            ],
            [
             0.5,
             "#f7f7f7"
            ],
            [
             0.6,
             "#e6f5d0"
            ],
            [
             0.7,
             "#b8e186"
            ],
            [
             0.8,
             "#7fbc41"
            ],
            [
             0.9,
             "#4d9221"
            ],
            [
             1,
             "#276419"
            ]
           ],
           "sequential": [
            [
             0,
             "#0d0887"
            ],
            [
             0.1111111111111111,
             "#46039f"
            ],
            [
             0.2222222222222222,
             "#7201a8"
            ],
            [
             0.3333333333333333,
             "#9c179e"
            ],
            [
             0.4444444444444444,
             "#bd3786"
            ],
            [
             0.5555555555555556,
             "#d8576b"
            ],
            [
             0.6666666666666666,
             "#ed7953"
            ],
            [
             0.7777777777777778,
             "#fb9f3a"
            ],
            [
             0.8888888888888888,
             "#fdca26"
            ],
            [
             1,
             "#f0f921"
            ]
           ],
           "sequentialminus": [
            [
             0,
             "#0d0887"
            ],
            [
             0.1111111111111111,
             "#46039f"
            ],
            [
             0.2222222222222222,
             "#7201a8"
            ],
            [
             0.3333333333333333,
             "#9c179e"
            ],
            [
             0.4444444444444444,
             "#bd3786"
            ],
            [
             0.5555555555555556,
             "#d8576b"
            ],
            [
             0.6666666666666666,
             "#ed7953"
            ],
            [
             0.7777777777777778,
             "#fb9f3a"
            ],
            [
             0.8888888888888888,
             "#fdca26"
            ],
            [
             1,
             "#f0f921"
            ]
           ]
          },
          "colorway": [
           "#636efa",
           "#EF553B",
           "#00cc96",
           "#ab63fa",
           "#FFA15A",
           "#19d3f3",
           "#FF6692",
           "#B6E880",
           "#FF97FF",
           "#FECB52"
          ],
          "font": {
           "color": "#2a3f5f"
          },
          "geo": {
           "bgcolor": "white",
           "lakecolor": "white",
           "landcolor": "#E5ECF6",
           "showlakes": true,
           "showland": true,
           "subunitcolor": "white"
          },
          "hoverlabel": {
           "align": "left"
          },
          "hovermode": "closest",
          "mapbox": {
           "style": "light"
          },
          "paper_bgcolor": "white",
          "plot_bgcolor": "#E5ECF6",
          "polar": {
           "angularaxis": {
            "gridcolor": "white",
            "linecolor": "white",
            "ticks": ""
           },
           "bgcolor": "#E5ECF6",
           "radialaxis": {
            "gridcolor": "white",
            "linecolor": "white",
            "ticks": ""
           }
          },
          "scene": {
           "xaxis": {
            "backgroundcolor": "#E5ECF6",
            "gridcolor": "white",
            "gridwidth": 2,
            "linecolor": "white",
            "showbackground": true,
            "ticks": "",
            "zerolinecolor": "white"
           },
           "yaxis": {
            "backgroundcolor": "#E5ECF6",
            "gridcolor": "white",
            "gridwidth": 2,
            "linecolor": "white",
            "showbackground": true,
            "ticks": "",
            "zerolinecolor": "white"
           },
           "zaxis": {
            "backgroundcolor": "#E5ECF6",
            "gridcolor": "white",
            "gridwidth": 2,
            "linecolor": "white",
            "showbackground": true,
            "ticks": "",
            "zerolinecolor": "white"
           }
          },
          "shapedefaults": {
           "line": {
            "color": "#2a3f5f"
           }
          },
          "ternary": {
           "aaxis": {
            "gridcolor": "white",
            "linecolor": "white",
            "ticks": ""
           },
           "baxis": {
            "gridcolor": "white",
            "linecolor": "white",
            "ticks": ""
           },
           "bgcolor": "#E5ECF6",
           "caxis": {
            "gridcolor": "white",
            "linecolor": "white",
            "ticks": ""
           }
          },
          "title": {
           "x": 0.05
          },
          "xaxis": {
           "automargin": true,
           "gridcolor": "white",
           "linecolor": "white",
           "ticks": "",
           "title": {
            "standoff": 15
           },
           "zerolinecolor": "white",
           "zerolinewidth": 2
          },
          "yaxis": {
           "automargin": true,
           "gridcolor": "white",
           "linecolor": "white",
           "ticks": "",
           "title": {
            "standoff": 15
           },
           "zerolinecolor": "white",
           "zerolinewidth": 2
          }
         }
        },
        "xaxis": {
         "anchor": "y",
         "domain": [
          0,
          1
         ],
         "title": {
          "text": "Year"
         }
        },
        "yaxis": {
         "anchor": "x",
         "domain": [
          0,
          1
         ],
         "title": {
          "text": "Emissions"
         }
        }
       }
      }
     },
     "metadata": {},
     "output_type": "display_data"
    },
    {
     "data": {
      "text/plain": [
       "<Figure size 864x360 with 0 Axes>"
      ]
     },
     "metadata": {},
     "output_type": "display_data"
    }
   ],
   "source": [
    "columns = ['Coal', 'Oil', 'Gas','Cement', 'Flaring', 'Other']\n",
    "plt.figure(figsize=(12,5))\n",
    "fig = px.line(y=colombia_data['Total'],x=colombia_data['Year'],labels={'x':'Year','y':'Emissions'})\n",
    "for i in columns:\n",
    "    fig.add_scatter(y=colombia_data[str(i)],x=colombia_data['Year'],name=str(i))\n",
    "fig.show()"
   ]
  },
  {
   "cell_type": "markdown",
   "metadata": {},
   "source": [
    "Han bajado las emisiones de carbon para en el 2020, asi como tambien han aumentado las emisiones por quema de aceites, el gas se ha mantenido"
   ]
  },
  {
   "cell_type": "markdown",
   "metadata": {},
   "source": [
    "#Vaidamos la correlaccion entre emisiones en general para nuestro dataframe"
   ]
  },
  {
   "cell_type": "code",
   "execution_count": 72,
   "metadata": {},
   "outputs": [
    {
     "data": {
      "image/png": "[encoded data removed]",
      "text/plain": [
       "<Figure size 864x432 with 2 Axes>"
      ]
     },
     "metadata": {},
     "output_type": "display_data"
    }
   ],
   "source": [
    "plt.figure(figsize=(12,6))\n",
    "sns.heatmap(df.corr(),cmap='YlGnBu',annot=True)\n",
    "plt.yticks(rotation='horizontal')\n",
    "plt.show()"
   ]
  },
  {
   "cell_type": "code",
   "execution_count": 73,
   "metadata": {},
   "outputs": [
    {
     "data": {
      "text/plain": [
       "Text(0.5, 1.0, 'Colombia')"
      ]
     },
     "execution_count": 73,
     "metadata": {},
     "output_type": "execute_result"
    },
    {
     "data": {
      "image/png": "[encoded data removed]",
      "text/plain": [
       "<Figure size 864x360 with 2 Axes>"
      ]
     },
     "metadata": {},
     "output_type": "display_data"
    }
   ],
   "source": [
    "#Contrastamos valores de Colombia contra los datos globales\n",
    "plt.figure(figsize=(12,5))\n",
    "world_data_past_10 = df_global[-10:]\n",
    "values_world = []\n",
    "for i in columns:\n",
    "    values_world.append(world_data_past_10.iloc[9][str(i)]-world_data_past_10.iloc[0][str(i)])\n",
    "values_colombia = []\n",
    "for i in columns:\n",
    "    values_colombia.append(colombia_data.iloc[9][str(i)]-colombia_data.iloc[0][str(i)])\n",
    "plt.subplot(121)\n",
    "sns.barplot(x=columns,y=values_world,palette='Set2',edgecolor='.3')\n",
    "plt.title('World')\n",
    "plt.subplot(122)\n",
    "sns.barplot(x=columns,y=values_colombia,palette='Set2',edgecolor='.3')    \n",
    "plt.title('Colombia')"
   ]
  },
  {
   "cell_type": "markdown",
   "metadata": {},
   "source": [
    "La mayor cantidad de emisiones del mundo entero en los ultimos 10 años es el gas, seguido del aceite y el cemento"
   ]
  },
  {
   "cell_type": "code",
   "execution_count": 74,
   "metadata": {},
   "outputs": [],
   "source": [
    "afg = df[df['ISO 3166-1 alpha-3']=='AFG']\n",
    "#lets analyse the data of AFG over pas 30 years which has been continously affected by war\n",
    "afg_past_30 = afg[-30:]"
   ]
  },
  {
   "cell_type": "code",
   "execution_count": 75,
   "metadata": {},
   "outputs": [
    {
     "data": {
      "text/plain": [
       "Text(0.5, 1.0, 'Afghanistan emission trend of past 30 years')"
      ]
     },
     "execution_count": 75,
     "metadata": {},
     "output_type": "execute_result"
    },
    {
     "data": {
      "image/png": "[encoded data removed]",
      "text/plain": [
       "<Figure size 864x360 with 1 Axes>"
      ]
     },
     "metadata": {},
     "output_type": "display_data"
    }
   ],
   "source": [
    "columns = ['Coal', 'Oil', 'Gas','Cement', 'Flaring', 'Other']\n",
    "cols = ['Total']+columns\n",
    "plt.figure(figsize=(12,5))\n",
    "sns.lineplot(x=afg_past_30['Year'],y=afg_past_30['Total'])\n",
    "for i in columns:\n",
    "    sns.lineplot(x=afg_past_30['Year'],y=afg_past_30[str(i)])\n",
    "plt.legend(cols)\n",
    "plt.title('Afghanistan emission trend of past 30 years')"
   ]
  },
  {
   "attachments": {},
   "cell_type": "markdown",
   "metadata": {},
   "source": [
    "Ahora miremos de los ultimos 10 años los paises con mas emisiones\n"
   ]
  },
  {
   "cell_type": "code",
   "execution_count": 92,
   "metadata": {},
   "outputs": [],
   "source": [
    "filtro = df['Year']>=2013\n",
    "df_ultimos_10 = df[filtro]"
   ]
  },
  {
   "cell_type": "code",
   "execution_count": 93,
   "metadata": {},
   "outputs": [
    {
     "data": {
      "text/plain": [
       "Index(['Country', 'ISO 3166-1 alpha-3', 'Year', 'Total', 'Coal', 'Oil', 'Gas',\n",
       "       'Cement', 'Flaring', 'Other', 'Per Capita'],\n",
       "      dtype='object')"
      ]
     },
     "execution_count": 93,
     "metadata": {},
     "output_type": "execute_result"
    }
   ],
   "source": [
    "df.columns"
   ]
  },
  {
   "cell_type": "code",
   "execution_count": 99,
   "metadata": {},
   "outputs": [
    {
     "data": {
      "text/plain": [
       "<AxesSubplot:xlabel='Total', ylabel='Per Capita'>"
      ]
     },
     "execution_count": 99,
     "metadata": {},
     "output_type": "execute_result"
    },
    {
     "data": {
      "image/png": "[encoded data removed]",
      "text/plain": [
       "<Figure size 720x432 with 1 Axes>"
      ]
     },
     "metadata": {},
     "output_type": "display_data"
    }
   ],
   "source": [
    "plt.figure(figsize=(10,6))\n",
    "avg_emissions = df.groupby('Country').mean().sort_values(by='Total',ascending=False)[:10].reset_index()\n",
    "sns.scatterplot(data=avg_emissions,x='Total',y='Per Capita',hue='Country')"
   ]
  },
  {
   "cell_type": "code",
   "execution_count": 100,
   "metadata": {},
   "outputs": [
    {
     "data": {
      "text/html": [
       "<div>\n",
       "<style scoped>\n",
       "    .dataframe tbody tr th:only-of-type {\n",
       "        vertical-align: middle;\n",
       "    }\n",
       "\n",
       "    .dataframe tbody tr th {\n",
       "        vertical-align: top;\n",
       "    }\n",
       "\n",
       "    .dataframe thead th {\n",
       "        text-align: right;\n",
       "    }\n",
       "</style>\n",
       "<table border=\"1\" class=\"dataframe\">\n",
       "  <thead>\n",
       "    <tr style=\"text-align: right;\">\n",
       "      <th></th>\n",
       "      <th>Country</th>\n",
       "      <th>Year</th>\n",
       "      <th>Total</th>\n",
       "      <th>Coal</th>\n",
       "      <th>Oil</th>\n",
       "      <th>Gas</th>\n",
       "      <th>Cement</th>\n",
       "      <th>Flaring</th>\n",
       "      <th>Other</th>\n",
       "      <th>Per Capita</th>\n",
       "    </tr>\n",
       "  </thead>\n",
       "  <tbody>\n",
       "    <tr>\n",
       "      <th>0</th>\n",
       "      <td>USA</td>\n",
       "      <td>1885.5</td>\n",
       "      <td>1551.128144</td>\n",
       "      <td>645.018345</td>\n",
       "      <td>592.922894</td>\n",
       "      <td>288.759351</td>\n",
       "      <td>10.278789</td>\n",
       "      <td>8.901665</td>\n",
       "      <td>5.247101</td>\n",
       "      <td>8.279769</td>\n",
       "    </tr>\n",
       "    <tr>\n",
       "      <th>1</th>\n",
       "      <td>China</td>\n",
       "      <td>1885.5</td>\n",
       "      <td>916.738300</td>\n",
       "      <td>687.769897</td>\n",
       "      <td>126.807144</td>\n",
       "      <td>26.330924</td>\n",
       "      <td>57.565486</td>\n",
       "      <td>0.251792</td>\n",
       "      <td>18.013057</td>\n",
       "      <td>0.743979</td>\n",
       "    </tr>\n",
       "    <tr>\n",
       "      <th>2</th>\n",
       "      <td>Russia</td>\n",
       "      <td>1885.5</td>\n",
       "      <td>432.160410</td>\n",
       "      <td>167.542181</td>\n",
       "      <td>122.131684</td>\n",
       "      <td>128.875788</td>\n",
       "      <td>6.099904</td>\n",
       "      <td>5.464880</td>\n",
       "      <td>2.045973</td>\n",
       "      <td>2.952237</td>\n",
       "    </tr>\n",
       "    <tr>\n",
       "      <th>3</th>\n",
       "      <td>Germany</td>\n",
       "      <td>1885.5</td>\n",
       "      <td>342.979793</td>\n",
       "      <td>237.742070</td>\n",
       "      <td>72.987919</td>\n",
       "      <td>26.386977</td>\n",
       "      <td>4.436054</td>\n",
       "      <td>0.344022</td>\n",
       "      <td>1.082752</td>\n",
       "      <td>4.821263</td>\n",
       "    </tr>\n",
       "    <tr>\n",
       "      <th>4</th>\n",
       "      <td>United Kingdom</td>\n",
       "      <td>1885.5</td>\n",
       "      <td>288.635000</td>\n",
       "      <td>209.009549</td>\n",
       "      <td>49.800111</td>\n",
       "      <td>26.408941</td>\n",
       "      <td>1.924804</td>\n",
       "      <td>1.067848</td>\n",
       "      <td>0.423747</td>\n",
       "      <td>6.049744</td>\n",
       "    </tr>\n",
       "  </tbody>\n",
       "</table>\n",
       "</div>"
      ],
      "text/plain": [
       "          Country    Year        Total        Coal         Oil         Gas  \\\n",
       "0             USA  1885.5  1551.128144  645.018345  592.922894  288.759351   \n",
       "1           China  1885.5   916.738300  687.769897  126.807144   26.330924   \n",
       "2          Russia  1885.5   432.160410  167.542181  122.131684  128.875788   \n",
       "3         Germany  1885.5   342.979793  237.742070   72.987919   26.386977   \n",
       "4  United Kingdom  1885.5   288.635000  209.009549   49.800111   26.408941   \n",
       "\n",
       "      Cement   Flaring      Other  Per Capita  \n",
       "0  10.278789  8.901665   5.247101    8.279769  \n",
       "1  57.565486  0.251792  18.013057    0.743979  \n",
       "2   6.099904  5.464880   2.045973    2.952237  \n",
       "3   4.436054  0.344022   1.082752    4.821263  \n",
       "4   1.924804  1.067848   0.423747    6.049744  "
      ]
     },
     "execution_count": 100,
     "metadata": {},
     "output_type": "execute_result"
    }
   ],
   "source": [
    "avg_emissions.head()"
   ]
  },
  {
   "attachments": {},
   "cell_type": "markdown",
   "metadata": {},
   "source": [
    "Cual es el pais con mas emisiones por categoria de emision?"
   ]
  },
  {
   "cell_type": "code",
   "execution_count": 108,
   "metadata": {},
   "outputs": [
    {
     "name": "stdout",
     "output_type": "stream",
     "text": [
      "Categoria -->Coal\n",
      "USA\n",
      "China\n",
      "Russia\n",
      "Germany\n",
      "United Kingdom\n",
      "Categoria -->Oil\n",
      "USA\n",
      "China\n",
      "Russia\n",
      "Germany\n",
      "United Kingdom\n",
      "Categoria -->Gas\n",
      "USA\n",
      "China\n",
      "Russia\n",
      "Germany\n",
      "United Kingdom\n",
      "Categoria -->Cement\n",
      "USA\n",
      "China\n",
      "Russia\n",
      "Germany\n",
      "United Kingdom\n",
      "Categoria -->Flaring\n",
      "USA\n",
      "China\n",
      "Russia\n",
      "Germany\n",
      "United Kingdom\n",
      "Categoria -->Other\n",
      "USA\n",
      "China\n",
      "Russia\n",
      "Germany\n",
      "United Kingdom\n"
     ]
    }
   ],
   "source": [
    "for i in columns:\n",
    "    print('Categoria -->'+str(i))\n",
    "    avg_data = df.groupby('Country').mean().sort_values(by='Total',ascending=False)[:10].reset_index()\n",
    "    countries = avg_data['Country'].values[:5]\n",
    "    for j in countries:\n",
    "        print(j)"
   ]
  },
  {
   "cell_type": "code",
   "execution_count": null,
   "metadata": {},
   "outputs": [],
   "source": []
  }
 ],
 "metadata": {
  "kernelspec": {
   "display_name": "base",
   "language": "python",
   "name": "python3"
  },
  "language_info": {
   "codemirror_mode": {
    "name": "ipython",
    "version": 3
   },
   "file_extension": ".py",
   "mimetype": "text/x-python",
   "name": "python",
   "nbconvert_exporter": "python",
   "pygments_lexer": "ipython3",
   "version": "3.9.12"
  },
  "vscode": {
   "interpreter": {
    "hash": "98b921049c439807c081d6616d9731da5920d3b6edca6190edeae5a80cc907f5"
   }
  }
 },
 "nbformat": 4,
 "nbformat_minor": 2
}
